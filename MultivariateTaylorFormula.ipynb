{
  "nbformat": 4,
  "nbformat_minor": 0,
  "metadata": {
    "colab": {
      "provenance": [],
      "authorship_tag": "ABX9TyPkb1t0XeZ1t8URFBS9bR6a",
      "include_colab_link": true
    },
    "kernelspec": {
      "name": "python3",
      "display_name": "Python 3"
    },
    "language_info": {
      "name": "python"
    }
  },
  "cells": [
    {
      "cell_type": "markdown",
      "metadata": {
        "id": "view-in-github",
        "colab_type": "text"
      },
      "source": [
        "<a href=\"https://colab.research.google.com/github/brianbaert/M4ML/blob/main/MultivariateTaylorFormula.ipynb\" target=\"_parent\"><img src=\"https://colab.research.google.com/assets/colab-badge.svg\" alt=\"Open In Colab\"/></a>"
      ]
    },
    {
      "cell_type": "markdown",
      "source": [
        "##Taylor's formula for multivariate functions"
      ],
      "metadata": {
        "id": "YxyzijScrvQh"
      }
    },
    {
      "cell_type": "markdown",
      "source": [
        "In this lab we will compute the 1st and 2nd degree Taylor polynomial approximation of $f(x,y)=xe^y+1$ near the point (1,0)"
      ],
      "metadata": {
        "id": "xw59qLVIv5bB"
      }
    },
    {
      "cell_type": "code",
      "execution_count": null,
      "metadata": {
        "id": "l8aF1Fw0Xyi3"
      },
      "outputs": [],
      "source": [
        "#Taylor polynomial calculations for multivariate functions\n",
        "from sympy import *\n",
        "from sympy.abc import x,y\n",
        "f = x * exp(y) +1\n",
        "x0 = Point(1,0)"
      ]
    },
    {
      "cell_type": "code",
      "source": [
        "T0 = f.subs({x:x0[0], y:x0[1]})\n",
        "T0"
      ],
      "metadata": {
        "colab": {
          "base_uri": "https://localhost:8080/",
          "height": 37
        },
        "id": "3c8bTodi2a-m",
        "outputId": "e2f24eb5-a13f-4943-b970-bbd4156c21d9"
      },
      "execution_count": null,
      "outputs": [
        {
          "output_type": "execute_result",
          "data": {
            "text/plain": [
              "2"
            ],
            "text/latex": "$\\displaystyle 2$"
          },
          "metadata": {},
          "execution_count": 88
        }
      ]
    },
    {
      "cell_type": "code",
      "source": [
        "A = Matrix([[x-x0[0]], [y-x0[1]]])\n",
        "A"
      ],
      "metadata": {
        "colab": {
          "base_uri": "https://localhost:8080/",
          "height": 58
        },
        "id": "Aq3XiDI2ZFDz",
        "outputId": "1a090c91-03d1-48fd-cb79-0bba7988ab44"
      },
      "execution_count": null,
      "outputs": [
        {
          "output_type": "execute_result",
          "data": {
            "text/plain": [
              "Matrix([\n",
              "[x - 1],\n",
              "[    y]])"
            ],
            "text/latex": "$\\displaystyle \\left[\\begin{matrix}x - 1\\\\y\\end{matrix}\\right]$"
          },
          "metadata": {},
          "execution_count": 79
        }
      ]
    },
    {
      "cell_type": "markdown",
      "source": [
        "We first calculate the partial derivatives with respect to $x$ and $y$"
      ],
      "metadata": {
        "id": "b1oi8Us-wl-Q"
      }
    },
    {
      "cell_type": "code",
      "source": [
        "derivative_f_x = f.diff(x)\n",
        "derivative_f_y = f.diff(y)"
      ],
      "metadata": {
        "id": "GmFazlaDYKln"
      },
      "execution_count": null,
      "outputs": []
    },
    {
      "cell_type": "code",
      "source": [
        "derivative_f_x"
      ],
      "metadata": {
        "colab": {
          "base_uri": "https://localhost:8080/",
          "height": 39
        },
        "id": "DHaOALI7YZN2",
        "outputId": "428ed37c-287b-49ab-b330-4c5b7d5cceaa"
      },
      "execution_count": null,
      "outputs": [
        {
          "output_type": "execute_result",
          "data": {
            "text/plain": [
              "exp(y)"
            ],
            "text/latex": "$\\displaystyle e^{y}$"
          },
          "metadata": {},
          "execution_count": 37
        }
      ]
    },
    {
      "cell_type": "code",
      "source": [
        "derivative_f_y"
      ],
      "metadata": {
        "colab": {
          "base_uri": "https://localhost:8080/",
          "height": 39
        },
        "id": "t5v9llRVYail",
        "outputId": "1f7606ec-bbb4-4d7c-faab-816e9db4873f"
      },
      "execution_count": null,
      "outputs": [
        {
          "output_type": "execute_result",
          "data": {
            "text/plain": [
              "x*exp(y)"
            ],
            "text/latex": "$\\displaystyle x e^{y}$"
          },
          "metadata": {},
          "execution_count": 38
        }
      ]
    },
    {
      "cell_type": "markdown",
      "source": [
        "Sympy has no built-in gradient function, but as the gradient is the Jacobian of one function, we can use it to calculate the gradient. "
      ],
      "metadata": {
        "id": "KqOkFO_Mx7Jz"
      }
    },
    {
      "cell_type": "code",
      "source": [
        "Grad = Matrix([f]).jacobian(Matrix(list(ordered(f.free_symbols))))\n",
        "Grad"
      ],
      "metadata": {
        "colab": {
          "base_uri": "https://localhost:8080/",
          "height": 39
        },
        "id": "02hlugkfwr9w",
        "outputId": "a385f269-a340-4def-cf8d-74b35b65f6df"
      },
      "execution_count": null,
      "outputs": [
        {
          "output_type": "execute_result",
          "data": {
            "text/plain": [
              "Matrix([[exp(y), x*exp(y)]])"
            ],
            "text/latex": "$\\displaystyle \\left[\\begin{matrix}e^{y} & x e^{y}\\end{matrix}\\right]$"
          },
          "metadata": {},
          "execution_count": 46
        }
      ]
    },
    {
      "cell_type": "code",
      "source": [
        "Grad_cols = Grad.cols\n",
        "for k in range(Grad.cols):\n",
        "  Grad[k] = Grad[k].subs({x:x0[0], y:x0[1]})"
      ],
      "metadata": {
        "id": "nrKAGu2a03c5"
      },
      "execution_count": null,
      "outputs": []
    },
    {
      "cell_type": "code",
      "source": [
        "Grad"
      ],
      "metadata": {
        "colab": {
          "base_uri": "https://localhost:8080/",
          "height": 39
        },
        "id": "ommoaU3w1DO3",
        "outputId": "11d0e701-f523-4045-8650-1208c4dfdfa6"
      },
      "execution_count": null,
      "outputs": [
        {
          "output_type": "execute_result",
          "data": {
            "text/plain": [
              "Matrix([[1, 1]])"
            ],
            "text/latex": "$\\displaystyle \\left[\\begin{matrix}1 & 1\\end{matrix}\\right]$"
          },
          "metadata": {},
          "execution_count": 82
        }
      ]
    },
    {
      "cell_type": "code",
      "source": [
        "T1 = (Grad * A)[0]\n",
        "T1 = T0 + T1\n",
        "T1"
      ],
      "metadata": {
        "colab": {
          "base_uri": "https://localhost:8080/",
          "height": 39
        },
        "id": "87MmuM871E0c",
        "outputId": "dabadde3-7869-4fc5-9601-9233d0ab45f1"
      },
      "execution_count": null,
      "outputs": [
        {
          "output_type": "execute_result",
          "data": {
            "text/plain": [
              "x + y + 1"
            ],
            "text/latex": "$\\displaystyle x + y + 1$"
          },
          "metadata": {},
          "execution_count": 95
        }
      ]
    },
    {
      "cell_type": "code",
      "source": [
        "H = hessian(f, list(ordered(f.free_symbols)))\n",
        "H"
      ],
      "metadata": {
        "colab": {
          "base_uri": "https://localhost:8080/",
          "height": 58
        },
        "id": "slGFPxXtY6ur",
        "outputId": "df35278e-c6b6-4c31-e262-c081831ceef3"
      },
      "execution_count": null,
      "outputs": [
        {
          "output_type": "execute_result",
          "data": {
            "text/plain": [
              "Matrix([\n",
              "[     0,   exp(y)],\n",
              "[exp(y), x*exp(y)]])"
            ],
            "text/latex": "$\\displaystyle \\left[\\begin{matrix}0 & e^{y}\\\\e^{y} & x e^{y}\\end{matrix}\\right]$"
          },
          "metadata": {},
          "execution_count": 63
        }
      ]
    },
    {
      "cell_type": "code",
      "source": [
        "H_rows = H.rows\n",
        "H_cols = H.cols\n",
        "for i in range(H_rows):\n",
        "  for k in range(H_cols):\n",
        "    H[i,k] = H[i,k].subs({x:x0[0], y:x0[1]})"
      ],
      "metadata": {
        "id": "XEdwdIONzb42"
      },
      "execution_count": null,
      "outputs": []
    },
    {
      "cell_type": "code",
      "source": [
        "H"
      ],
      "metadata": {
        "colab": {
          "base_uri": "https://localhost:8080/",
          "height": 58
        },
        "id": "YcFICXx0y6SY",
        "outputId": "c75c8148-3b13-4e1c-f699-2c56620ce49d"
      },
      "execution_count": null,
      "outputs": [
        {
          "output_type": "execute_result",
          "data": {
            "text/plain": [
              "Matrix([\n",
              "[0, 1],\n",
              "[1, 1]])"
            ],
            "text/latex": "$\\displaystyle \\left[\\begin{matrix}0 & 1\\\\1 & 1\\end{matrix}\\right]$"
          },
          "metadata": {},
          "execution_count": 68
        }
      ]
    },
    {
      "cell_type": "code",
      "source": [
        "A.T"
      ],
      "metadata": {
        "colab": {
          "base_uri": "https://localhost:8080/",
          "height": 39
        },
        "id": "Azqw5L1sa8Cy",
        "outputId": "331cc5a0-f822-4059-e51e-5a90550a2ca5"
      },
      "execution_count": null,
      "outputs": [
        {
          "output_type": "execute_result",
          "data": {
            "text/plain": [
              "Matrix([[x - 1, y]])"
            ],
            "text/latex": "$\\displaystyle \\left[\\begin{matrix}x - 1 & y\\end{matrix}\\right]$"
          },
          "metadata": {},
          "execution_count": 70
        }
      ]
    },
    {
      "cell_type": "code",
      "source": [
        "T2 = (1/2*(A.T*H*A))[0]\n",
        "T2 = T1 + T2\n",
        "T2"
      ],
      "metadata": {
        "colab": {
          "base_uri": "https://localhost:8080/",
          "height": 39
        },
        "id": "XUa0FI4DbJ_d",
        "outputId": "e2a81cec-d98e-49bd-a159-d43eff9d3e03"
      },
      "execution_count": null,
      "outputs": [
        {
          "output_type": "execute_result",
          "data": {
            "text/plain": [
              "x + 0.5*y*(x - 1) + 0.5*y*(x + y - 1) + y + 1"
            ],
            "text/latex": "$\\displaystyle x + 0.5 y \\left(x - 1\\right) + 0.5 y \\left(x + y - 1\\right) + y + 1$"
          },
          "metadata": {},
          "execution_count": 97
        }
      ]
    },
    {
      "cell_type": "code",
      "source": [
        "T2.expand()"
      ],
      "metadata": {
        "colab": {
          "base_uri": "https://localhost:8080/",
          "height": 39
        },
        "id": "DspGsYZQbX7S",
        "outputId": "d1626498-b9c6-436c-ee94-eae5778d9fd8"
      },
      "execution_count": null,
      "outputs": [
        {
          "output_type": "execute_result",
          "data": {
            "text/plain": [
              "1.0*x*y + x + 0.5*y**2 + 1"
            ],
            "text/latex": "$\\displaystyle 1.0 x y + x + 0.5 y^{2} + 1$"
          },
          "metadata": {},
          "execution_count": 100
        }
      ]
    },
    {
      "cell_type": "code",
      "source": [],
      "metadata": {
        "id": "7TbUIoaL3T3d"
      },
      "execution_count": null,
      "outputs": []
    }
  ]
}